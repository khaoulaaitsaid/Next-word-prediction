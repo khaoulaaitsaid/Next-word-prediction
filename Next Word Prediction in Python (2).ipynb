{
 "cells": [
  {
   "cell_type": "code",
   "execution_count": 6,
   "id": "d8086ff1-8115-47d0-8954-3680d717ec4e",
   "metadata": {},
   "outputs": [],
   "source": [
    "import random \n",
    "import pickle\n",
    "\n",
    "import numpy as np\n",
    "import pandas as pd\n",
    "from nltk.tokenize import RegexpTokenizer\n",
    "\n",
    "from tensorflow.keras.models import Sequential, load_model\n",
    "from tensorflow.keras.layers import LSTM, Dense, Activation\n",
    "from tensorflow.keras.optimizers import RMSprop"
   ]
  },
  {
   "cell_type": "code",
   "execution_count": 7,
   "id": "67d1c478-8c86-4d31-805b-0f8d69469939",
   "metadata": {},
   "outputs": [
    {
     "data": {
      "text/html": [
       "<div>\n",
       "<style scoped>\n",
       "    .dataframe tbody tr th:only-of-type {\n",
       "        vertical-align: middle;\n",
       "    }\n",
       "\n",
       "    .dataframe tbody tr th {\n",
       "        vertical-align: top;\n",
       "    }\n",
       "\n",
       "    .dataframe thead th {\n",
       "        text-align: right;\n",
       "    }\n",
       "</style>\n",
       "<table border=\"1\" class=\"dataframe\">\n",
       "  <thead>\n",
       "    <tr style=\"text-align: right;\">\n",
       "      <th></th>\n",
       "      <th>id</th>\n",
       "      <th>title</th>\n",
       "      <th>text</th>\n",
       "      <th>label</th>\n",
       "    </tr>\n",
       "  </thead>\n",
       "  <tbody>\n",
       "    <tr>\n",
       "      <th>0</th>\n",
       "      <td>8476</td>\n",
       "      <td>You Can Smell Hillary’s Fear</td>\n",
       "      <td>Daniel Greenfield, a Shillman Journalism Fello...</td>\n",
       "      <td>FAKE</td>\n",
       "    </tr>\n",
       "    <tr>\n",
       "      <th>1</th>\n",
       "      <td>10294</td>\n",
       "      <td>Watch The Exact Moment Paul Ryan Committed Pol...</td>\n",
       "      <td>Google Pinterest Digg Linkedin Reddit Stumbleu...</td>\n",
       "      <td>FAKE</td>\n",
       "    </tr>\n",
       "    <tr>\n",
       "      <th>2</th>\n",
       "      <td>3608</td>\n",
       "      <td>Kerry to go to Paris in gesture of sympathy</td>\n",
       "      <td>U.S. Secretary of State John F. Kerry said Mon...</td>\n",
       "      <td>REAL</td>\n",
       "    </tr>\n",
       "    <tr>\n",
       "      <th>3</th>\n",
       "      <td>10142</td>\n",
       "      <td>Bernie supporters on Twitter erupt in anger ag...</td>\n",
       "      <td>— Kaydee King (@KaydeeKing) November 9, 2016 T...</td>\n",
       "      <td>FAKE</td>\n",
       "    </tr>\n",
       "    <tr>\n",
       "      <th>4</th>\n",
       "      <td>875</td>\n",
       "      <td>The Battle of New York: Why This Primary Matters</td>\n",
       "      <td>It's primary day in New York and front-runners...</td>\n",
       "      <td>REAL</td>\n",
       "    </tr>\n",
       "    <tr>\n",
       "      <th>...</th>\n",
       "      <td>...</td>\n",
       "      <td>...</td>\n",
       "      <td>...</td>\n",
       "      <td>...</td>\n",
       "    </tr>\n",
       "    <tr>\n",
       "      <th>6330</th>\n",
       "      <td>4490</td>\n",
       "      <td>State Department says it can't find emails fro...</td>\n",
       "      <td>The State Department told the Republican Natio...</td>\n",
       "      <td>REAL</td>\n",
       "    </tr>\n",
       "    <tr>\n",
       "      <th>6331</th>\n",
       "      <td>8062</td>\n",
       "      <td>The ‘P’ in PBS Should Stand for ‘Plutocratic’ ...</td>\n",
       "      <td>The ‘P’ in PBS Should Stand for ‘Plutocratic’ ...</td>\n",
       "      <td>FAKE</td>\n",
       "    </tr>\n",
       "    <tr>\n",
       "      <th>6332</th>\n",
       "      <td>8622</td>\n",
       "      <td>Anti-Trump Protesters Are Tools of the Oligarc...</td>\n",
       "      <td>Anti-Trump Protesters Are Tools of the Oligar...</td>\n",
       "      <td>FAKE</td>\n",
       "    </tr>\n",
       "    <tr>\n",
       "      <th>6333</th>\n",
       "      <td>4021</td>\n",
       "      <td>In Ethiopia, Obama seeks progress on peace, se...</td>\n",
       "      <td>ADDIS ABABA, Ethiopia —President Obama convene...</td>\n",
       "      <td>REAL</td>\n",
       "    </tr>\n",
       "    <tr>\n",
       "      <th>6334</th>\n",
       "      <td>4330</td>\n",
       "      <td>Jeb Bush Is Suddenly Attacking Trump. Here's W...</td>\n",
       "      <td>Jeb Bush Is Suddenly Attacking Trump. Here's W...</td>\n",
       "      <td>REAL</td>\n",
       "    </tr>\n",
       "  </tbody>\n",
       "</table>\n",
       "<p>6335 rows × 4 columns</p>\n",
       "</div>"
      ],
      "text/plain": [
       "         id                                              title  \\\n",
       "0      8476                       You Can Smell Hillary’s Fear   \n",
       "1     10294  Watch The Exact Moment Paul Ryan Committed Pol...   \n",
       "2      3608        Kerry to go to Paris in gesture of sympathy   \n",
       "3     10142  Bernie supporters on Twitter erupt in anger ag...   \n",
       "4       875   The Battle of New York: Why This Primary Matters   \n",
       "...     ...                                                ...   \n",
       "6330   4490  State Department says it can't find emails fro...   \n",
       "6331   8062  The ‘P’ in PBS Should Stand for ‘Plutocratic’ ...   \n",
       "6332   8622  Anti-Trump Protesters Are Tools of the Oligarc...   \n",
       "6333   4021  In Ethiopia, Obama seeks progress on peace, se...   \n",
       "6334   4330  Jeb Bush Is Suddenly Attacking Trump. Here's W...   \n",
       "\n",
       "                                                   text label  \n",
       "0     Daniel Greenfield, a Shillman Journalism Fello...  FAKE  \n",
       "1     Google Pinterest Digg Linkedin Reddit Stumbleu...  FAKE  \n",
       "2     U.S. Secretary of State John F. Kerry said Mon...  REAL  \n",
       "3     — Kaydee King (@KaydeeKing) November 9, 2016 T...  FAKE  \n",
       "4     It's primary day in New York and front-runners...  REAL  \n",
       "...                                                 ...   ...  \n",
       "6330  The State Department told the Republican Natio...  REAL  \n",
       "6331  The ‘P’ in PBS Should Stand for ‘Plutocratic’ ...  FAKE  \n",
       "6332   Anti-Trump Protesters Are Tools of the Oligar...  FAKE  \n",
       "6333  ADDIS ABABA, Ethiopia —President Obama convene...  REAL  \n",
       "6334  Jeb Bush Is Suddenly Attacking Trump. Here's W...  REAL  \n",
       "\n",
       "[6335 rows x 4 columns]"
      ]
     },
     "execution_count": 7,
     "metadata": {},
     "output_type": "execute_result"
    }
   ],
   "source": [
    "text_df = pd.read_csv(\"fake_or_real_news.csv\")\n",
    "text_df"
   ]
  },
  {
   "cell_type": "code",
   "execution_count": 8,
   "id": "886cd438-03e5-4a72-bad2-d814969d8f44",
   "metadata": {},
   "outputs": [],
   "source": [
    "text = list(text_df.text.values)\n"
   ]
  },
  {
   "cell_type": "code",
   "execution_count": 9,
   "id": "338214c1-d37b-4d14-9955-d0761dc8e119",
   "metadata": {},
   "outputs": [],
   "source": [
    "joined_text = \" \".join(text)"
   ]
  },
  {
   "cell_type": "code",
   "execution_count": 10,
   "id": "79a3f49e-d6c4-4dff-84d1-bcb3e4a6ad05",
   "metadata": {},
   "outputs": [],
   "source": [
    "partial_text = joined_text[:10000]"
   ]
  },
  {
   "cell_type": "code",
   "execution_count": 11,
   "id": "c1a2ed4e-e6e5-40b1-8779-b1c8d0eb2478",
   "metadata": {},
   "outputs": [],
   "source": [
    "tokenizer = RegexpTokenizer(r\"\\w+\")\n",
    "tokens = tokenizer.tokenize(partial_text.lower())"
   ]
  },
  {
   "cell_type": "code",
   "execution_count": 12,
   "id": "094e0a67-4095-48ba-8ea2-f97cce719279",
   "metadata": {},
   "outputs": [
    {
     "name": "stdout",
     "output_type": "stream",
     "text": [
      "['2016' '2020' '5' '60' 'a' 'abc' 'abcpolitics' 'abedin' 'about'\n",
      " 'aboutface' 'abuses' 'accused' 'accusing' 'act' 'ad' 'admits' 'ads'\n",
      " 'afraid' 'after' 'afternoon' 'against' 'age' 'agency' 'agents' 'ago'\n",
      " 'ahead' 'alive' 'all' 'allegations' 'allies' 'allowed' 'already' 'also'\n",
      " 'amendment' 'americans' 'an' 'and' 'announced' 'anthony' 'any' 'anywhere'\n",
      " 'apolitical' 'appearance' 'appeared' 'appearing' 'appeaser' 'approach'\n",
      " 'are' 'around' 'arrogant' 'article' 'as' 'asked' 'assault' 'assaulting'\n",
      " 'assaults' 'associates' 'assume' 'at' 'attack' 'attacked' 'attacking'\n",
      " 'away' 'awkward' 'awkwardly' 'back' 'backed' 'bad' 'badly' 'batch'\n",
      " 'bathroom' 'be' 'becoming' 'beds' 'been' 'before' 'behavior' 'behind'\n",
      " 'being' 'belief' 'believes' 'believing' 'better' 'between' 'bigger'\n",
      " 'bigotry' 'bizarre' 'boldly' 'born' 'boston' 'bragged' 'breathing'\n",
      " 'breeze' 'breezy' 'bribery' 'bring' 'bureau' 'buried' 'but' 'by' 'cable'\n",
      " 'calling' 'came' 'campaign' 'can' 'candidate' 'cards' 'career' 'careers'\n",
      " 'carville' 'center' 'chances' 'changed' 'charge' 'chilly' 'circulated'\n",
      " 'claim' 'claimed' 'claiming' 'classified' 'clearly' 'clinton' 'clintons'\n",
      " 'clintonworld' 'close' 'closing' 'cnn' 'co' 'collapsed' 'colleagues'\n",
      " 'column' 'com' 'coma' 'come' 'comey' 'comment' 'compared' 'computer'\n",
      " 'confident' 'conservative' 'conspiracies' 'conspiracy' 'continue'\n",
      " 'control' 'conviction' 'coordinating' 'corrected' 'corruption' 'could'\n",
      " 'couldn' 'countless' 'country' 'courage' 'course' 'cover' 'covert'\n",
      " 'cowardice' 'coy' 'cravenly' 'credibility' 'crime' 'criminal' 'cunning'\n",
      " 'currently' 'cycle' 'damaging' 'daniel' 'day' 'days' 'debate' 'decided'\n",
      " 'decides' 'declare' 'declared' 'declaring' 'defending' 'delicious'\n",
      " 'democratic' 'democrats' 'denial' 'deny' 'desperate' 'desperately'\n",
      " 'desperation' 'destroy' 'development' 'did' 'didn' 'digg' 'director'\n",
      " 'display' 'dnc' 'do' 'doj' 'don' 'done' 'dosed' 'down' 'during' 'edgar'\n",
      " 'editorial' 'either' 'elect' 'election' 'else' 'email' 'emailing'\n",
      " 'emails' 'endorsement' 'energy' 'enjoys' 'enough' 'entire' 'especially'\n",
      " 'establishment' 'even' 'ever' 'every' 'everyone' 'exactly' 'example'\n",
      " 'exist' 'existence' 'explanation' 'explanations' 'explosively' 'exposed'\n",
      " 'exposing' 'fairly' 'fbi' 'fear' 'federal' 'feigned' 'fellow' 'few'\n",
      " 'fight' 'fighting' 'figurehead' 'filled' 'film' 'final' 'finding' 'fire'\n",
      " 'fireworks' 'flailing' 'focused' 'focusing' 'followed' 'for' 'form'\n",
      " 'foundation' 'freedom' 'from' 'front' 'fundamental' 'futures' 'gasoline'\n",
      " 'gave' 'given' 'glancing' 'globe' 'go' 'going' 'gone' 'good' 'google'\n",
      " 'got' 'greenfield' 'hacks' 'had' 'happened' 'hard' 'harry' 'has' 'hatch'\n",
      " 'hates' 'have' 'he' 'head' 'headline' 'hell' 'her' 'here' 'hillary' 'him'\n",
      " 'himself' 'his' 'hit' 'home' 'hoover' 'hope' 'hospital' 'hour' 'house'\n",
      " 'how' 'however' 'https' 'hubris' 'huma' 'hurt' 'idea' 'if' 'illegal'\n",
      " 'illegality' 'impropriety' 'in' 'information' 'insane' 'insisted'\n",
      " 'instant' 'instead' 'interesting' 'intimidation' 'into' 'investigation'\n",
      " 'investigators' 'irritating' 'is' 'islam' 'isn' 'it' 'its' 'j' 'james'\n",
      " 'jobs' 'journalism' 'just' 'justified' 'keep' 'keeping' 'kgb' 'kind'\n",
      " 'knew' 'know' 'lambasting' 'lash' 'last' 'latest' 'lead' 'leadership'\n",
      " 'leave' 'led' 'left' 'letter' 'level' 'lie' 'lies' 'like' 'limp'\n",
      " 'linkedin' 'lit' 'lived' 'loaded' 'locked' 'lofty' 'long' 'longer' 'look'\n",
      " 'lot' 'loyalists' 'lunatic' 'lynch' 'made' 'major' 'make' 'making' 'man'\n",
      " 'manages' 'many' 'match' 'may' 'meant' 'media' 'mess' 'might' 'miles'\n",
      " 'misguided' 'mob' 'moment' 'months' 'moral' 'more' 'most' 'msnbc' 'much'\n",
      " 'mysterious' 'navigate' 'near' 'never' 'new' 'news' 'nice' 'no' 'nobody'\n",
      " 'nominee' 'nonsense' 'not' 'nothing' 'november' 'now' 'numerous' 'obama'\n",
      " 'of' 'off' 'often' 'old' 'on' 'once' 'one' 'only' 'operation' 'opponent'\n",
      " 'option' 'or' 'original' 'other' 'ought' 'out' 'outcome' 'outdone' 'over'\n",
      " 'own' 'panicked' 'paranoid' 'particularly' 'party' 'pass' 'patients'\n",
      " 'paul' 'payroll' 'people' 'personal' 'pic' 'picked' 'picking' 'pieces'\n",
      " 'pinterest' 'place' 'plan' 'playing' 'pocket' 'political' 'politics'\n",
      " 'poses' 'positive' 'possible' 'postured' 'power' 'practically'\n",
      " 'preemptive' 'preemptively' 'president' 'presidential' 'pretend'\n",
      " 'pretending' 'previously' 'principled' 'principles' 'print' 'pro'\n",
      " 'procedural' 'procedure' 'prominent' 'promising' 'protecting' 'proved'\n",
      " 'public' 'published' 'pure' 'push' 'putin' 'question' 'questions'\n",
      " 'quickly' 'radical' 'rally' 'ranks' 'rating' 're' 'react'\n",
      " 'realdonaldtrump' 'reality' 'really' 'reason' 'recalls' 'recover'\n",
      " 'reddit' 'refused' 'reid' 'relevance' 'relief' 'remembered' 'remind'\n",
      " 'replaced' 'republican' 'republicans' 'resignation' 'respected' 'respond'\n",
      " 'results' 'retired' 'reveal' 'revelation' 'reversed' 'review' 'ride'\n",
      " 'rigged' 'right' 'ringing' 'risk' 'rodham' 'role' 'running' 'ryan' 's'\n",
      " 'same' 'savage' 'says' 'scandal' 'scandals' 'scene' 'screwed' 'security'\n",
      " 'seemed' 'senator' 'senior' 'sent' 'server' 'setup' 'sexism' 'sexual'\n",
      " 'she' 'shillman' 'short' 'shove' 'shown' 'shrugged' 'sigh' 'slightest'\n",
      " 'smart' 'smell' 'smoke' 'sniveling' 'so' 'space' 'speaker' 'speakerryan'\n",
      " 'speaks' 'spectrum' 'spinelessness' 'spinmeisters' 'spouting' 'stage'\n",
      " 'staggering' 'stand' 'start' 'statement' 'states' 'stay' 'step' 'still'\n",
      " 'stored' 'stories' 'strange' 'strategy' 'stretch' 'struggle'\n",
      " 'stumbleupon' 'substance' 'such' 'sudden' 'suddenly' 'supporting'\n",
      " 'surprising' 'surreal' 'survival' 't' 'table' 'tak' 'taking' 'talked'\n",
      " 'tape' 'targeting' 'television' 'tells' 'tenth' 'than' 'that' 'the'\n",
      " 'their' 'them' 'then' 'there' 'they' 'thing' 'this' 'those' 'thought'\n",
      " 'threat' 'through' 'throughout' 'thrown' 'tied' 'time' 'times' 'to'\n",
      " 'today' 'too' 'train' 'trapped' 'trash' 'truly' 'trump' 'truths' 'try'\n",
      " 'trying' 'tumblr' 'turned' 'twitter' 'two' 'ugly' 'unapologetic'\n",
      " 'uncomfortable' 'under' 'underway' 'unfavorable' 'unite' 'united'\n",
      " 'unprecedented' 'unscathed' 'until' 'up' 'us' 'used' 'usual' 'utter'\n",
      " 'value' 'vast' 'very' 'victory' 'violating' 'violation' 'vladimir'\n",
      " 'volumes' 'vote' 'voted' 'vytt49yvoe' 'wake' 'waking' 'want' 'wants'\n",
      " 'war' 'warned' 'warning' 'was' 'watching' 'way' 'wcvscg4a5i' 'weathered'\n",
      " 'weeks' 'weiner' 'well' 'went' 'were' 'what' 'whatever' 'when' 'where'\n",
      " 'whether' 'which' 'while' 'who' 'whole' 'whose' 'why' 'wikipedia' 'will'\n",
      " 'wing' 'wiretaps' 'wisconsin' 'with' 'within' 'without' 'women' 'word'\n",
      " 'world' 'would' 'wouldn' 'wound' 'wreck' 'wreckage' 'writer' 'wrong'\n",
      " 'years' 'york' 'you' 'your' 'zero']\n"
     ]
    }
   ],
   "source": [
    "unique_tokens = np.unique(tokens)\n",
    "print(unique_tokens)"
   ]
  },
  {
   "cell_type": "code",
   "execution_count": 13,
   "id": "94ae491a-982e-4b1d-9c6f-8d0e72b1060a",
   "metadata": {},
   "outputs": [],
   "source": [
    "unique_token_index = {token: idx for idx, token in enumerate(unique_tokens)}"
   ]
  },
  {
   "cell_type": "code",
   "execution_count": 14,
   "id": "ee859fcb-e668-4bfb-a2fc-db6a54c8e73e",
   "metadata": {},
   "outputs": [],
   "source": [
    "n_words = 10\n",
    "input_words = []\n",
    "next_words = []\n",
    "for i in range(len(tokens) - n_words):\n",
    "    input_words.append(tokens[i:i + n_words])\n",
    "    next_words.append(tokens[i + n_words])"
   ]
  },
  {
   "cell_type": "code",
   "execution_count": 15,
   "id": "53536bfe-0638-403e-b15a-c02e88b6afa5",
   "metadata": {},
   "outputs": [
    {
     "name": "stdout",
     "output_type": "stream",
     "text": [
      "['is', 'a', 'new', 'york', 'writer', 'focusing', 'on', 'radical', 'islam', 'in', 'the', 'final', 'stretch', 'of', 'the', 'election', 'hillary', 'rodham', 'clinton', 'has', 'gone', 'to', 'war', 'with', 'the', 'fbi', 'the', 'word', 'unprecedented', 'has', 'been', 'thrown', 'around', 'so', 'often', 'this', 'election', 'that', 'it', 'ought', 'to', 'be', 'retired', 'but', 'it', 's', 'still', 'unprecedented', 'for', 'the', 'nominee', 'of', 'a', 'major', 'political', 'party', 'to', 'go', 'war', 'with', 'the', 'fbi', 'but', 'that', 's', 'exactly', 'what', 'hillary', 'and', 'her', 'people', 'have', 'done', 'coma', 'patients', 'just', 'waking', 'up', 'now', 'and', 'watching', 'an', 'hour', 'of', 'cnn', 'from', 'their', 'hospital', 'beds', 'would', 'assume', 'that', 'fbi', 'director', 'james', 'comey', 'is', 'hillary', 's', 'opponent', 'in', 'this', 'election', 'the', 'fbi', 'is', 'under', 'attack', 'by', 'everyone', 'from', 'obama', 'to', 'cnn', 'hillary', 's', 'people', 'have', 'circulated', 'a', 'letter', 'attacking', 'comey', 'there', 'are', 'currently', 'more', 'media', 'hit', 'pieces', 'lambasting', 'him', 'than', 'targeting', 'trump', 'it', 'wouldn', 't', 'be', 'too', 'surprising', 'if', 'the', 'clintons', 'or', 'their', 'allies', 'were', 'to', 'start', 'running', 'attack', 'ads', 'against', 'the', 'fbi', 'the', 'fbi', 's', 'leadership', 'is', 'being', 'warned', 'that', 'the', 'entire', 'left', 'wing', 'establishment', 'will', 'form', 'a', 'lynch', 'mob', 'if', 'they', 'continue', 'going', 'after', 'hillary', 'and', 'the', 'fbi', 's', 'credibility', 'is', 'being', 'attacked', 'by', 'the', 'media', 'and', 'the', 'democrats', 'to', 'preemptively', 'head', 'off', 'the', 'results', 'of', 'the', 'investigation', 'of', 'the', 'clinton', 'foundation', 'and', 'hillary', 'clinton', 'the', 'covert', 'struggle', 'between', 'fbi', 'agents', 'and', 'obama', 's', 'doj', 'people', 'has', 'gone', 'explosively', 'public', 'the', 'new', 'york', 'times', 'has', 'compared', 'comey', 'to', 'j', 'edgar', 'hoover', 'its', 'bizarre', 'headline', 'james', 'comey', 'role', 'recalls', 'hoover', 's', 'fbi', 'fairly', 'or', 'not', 'practically', 'admits', 'up', 'front', 'that', 'it', 's', 'spouting', 'nonsense', 'the', 'boston', 'globe', 'has', 'published', 'a', 'column', 'calling', 'for', 'comey', 's', 'resignation', 'not', 'to', 'be', 'outdone', 'time', 'has', 'an', 'editorial', 'claiming', 'that', 'the', 'scandal', 'is', 'really', 'an', 'attack', 'on', 'all', 'women', 'james', 'carville', 'appeared', 'on', 'msnbc', 'to', 'remind', 'everyone', 'that', 'he', 'was', 'still', 'alive', 'and', 'insane', 'he', 'accused', 'comey', 'of', 'coordinating', 'with', 'house', 'republicans', 'and', 'the', 'kgb', 'and', 'you', 'thought', 'the', 'vast', 'right', 'wing', 'conspiracy', 'was', 'a', 'stretch', 'countless', 'media', 'stories', 'charge', 'comey', 'with', 'violating', 'procedure', 'do', 'you', 'know', 'what', 's', 'a', 'procedural', 'violation', 'emailing', 'classified', 'information', 'stored', 'on', 'your', 'bathroom', 'server', 'senator', 'harry', 'reid', 'has', 'sent', 'comey', 'a', 'letter', 'accusing', 'him', 'of', 'violating', 'the', 'hatch', 'act', 'the', 'hatch', 'act', 'is', 'a', 'nice', 'idea', 'that', 'has', 'as', 'much', 'relevance', 'in', 'the', 'age', 'of', 'obama', 'as', 'the', 'tenth', 'amendment', 'but', 'the', 'cable', 'news', 'spectrum', 'quickly', 'filled', 'with', 'media', 'hacks', 'glancing', 'at', 'the', 'wikipedia', 'article', 'on', 'the', 'hatch', 'act', 'under', 'the', 'table', 'while', 'accusing', 'the', 'fbi', 'director', 'of', 'one', 'of', 'the', 'most', 'awkward', 'conspiracies', 'against', 'hillary', 'ever', 'if', 'james', 'comey', 'is', 'really', 'out', 'to', 'hurt', 'hillary', 'he', 'picked', 'one', 'hell', 'of', 'a', 'strange', 'way', 'to', 'do', 'it', 'not', 'too', 'long', 'ago', 'democrats', 'were', 'breathing', 'a', 'sigh', 'of', 'relief', 'when', 'he', 'gave', 'hillary', 'clinton', 'a', 'pass', 'in', 'a', 'prominent', 'public', 'statement', 'if', 'he', 'really', 'were', 'out', 'to', 'elect', 'trump', 'by', 'keeping', 'the', 'email', 'scandal', 'going', 'why', 'did', 'he', 'trash', 'the', 'investigation', 'was', 'he', 'on', 'the', 'payroll', 'of', 'house', 'republicans', 'and', 'the', 'kgb', 'back', 'then', 'and', 'playing', 'it', 'coy', 'or', 'was', 'it', 'a', 'sudden', 'development', 'where', 'vladimir', 'putin', 'and', 'paul', 'ryan', 'talked', 'him', 'into', 'taking', 'a', 'look', 'at', 'anthony', 'weiner', 's', 'computer', 'either', 'comey', 'is', 'the', 'most', 'cunning', 'fbi', 'director', 'that', 'ever', 'lived', 'or', 'he', 's', 'just', 'awkwardly', 'trying', 'to', 'navigate', 'a', 'political', 'mess', 'that', 'has', 'trapped', 'him', 'between', 'a', 'doj', 'leadership', 'whose', 'political', 'futures', 'are', 'tied', 'to', 'hillary', 's', 'victory', 'and', 'his', 'own', 'bureau', 'whose', 'apolitical', 'agents', 'just', 'want', 'to', 'be', 'allowed', 'to', 'do', 'their', 'jobs', 'the', 'only', 'truly', 'mysterious', 'thing', 'is', 'why', 'hillary', 'and', 'her', 'associates', 'decided', 'to', 'go', 'to', 'war', 'with', 'a', 'respected', 'federal', 'agency', 'most', 'americans', 'like', 'the', 'fbi', 'while', 'hillary', 'clinton', 'enjoys', 'a', '60', 'unfavorable', 'rating', 'and', 'it', 's', 'an', 'interesting', 'question', 'hillary', 's', 'old', 'strategy', 'was', 'to', 'lie', 'and', 'deny', 'that', 'the', 'fbi', 'even', 'had', 'a', 'criminal', 'investigation', 'underway', 'instead', 'her', 'associates', 'insisted', 'that', 'it', 'was', 'a', 'security', 'review', 'the', 'fbi', 'corrected', 'her', 'and', 'she', 'shrugged', 'it', 'off', 'but', 'the', 'old', 'breezy', 'denial', 'approach', 'has', 'given', 'way', 'to', 'a', 'savage', 'assault', 'on', 'the', 'fbi', 'pretending', 'that', 'nothing', 'was', 'wrong', 'was', 'a', 'bad', 'strategy', 'but', 'it', 'was', 'a', 'better', 'one', 'that', 'picking', 'a', 'fight', 'with', 'the', 'fbi', 'while', 'lunatic', 'clinton', 'associates', 'try', 'to', 'claim', 'that', 'the', 'fbi', 'is', 'really', 'the', 'kgb', 'there', 'are', 'two', 'possible', 'explanations', 'hillary', 'clinton', 'might', 'be', 'arrogant', 'enough', 'to', 'lash', 'out', 'at', 'the', 'fbi', 'now', 'that', 'she', 'believes', 'that', 'victory', 'is', 'near', 'the', 'same', 'kind', 'of', 'hubris', 'that', 'led', 'her', 'to', 'plan', 'her', 'victory', 'fireworks', 'display', 'could', 'lead', 'her', 'to', 'declare', 'a', 'war', 'on', 'the', 'fbi', 'for', 'irritating', 'her', 'during', 'the', 'final', 'miles', 'of', 'her', 'campaign', 'but', 'the', 'other', 'explanation', 'is', 'that', 'her', 'people', 'panicked', 'going', 'to', 'war', 'with', 'the', 'fbi', 'is', 'not', 'the', 'behavior', 'of', 'a', 'smart', 'and', 'focused', 'presidential', 'campaign', 'it', 's', 'an', 'act', 'of', 'desperation', 'when', 'a', 'presidential', 'candidate', 'decides', 'that', 'her', 'only', 'option', 'is', 'to', 'try', 'and', 'destroy', 'the', 'credibility', 'of', 'the', 'fbi', 'that', 's', 'not', 'hubris', 'it', 's', 'fear', 'of', 'what', 'the', 'fbi', 'might', 'be', 'about', 'to', 'reveal', 'about', 'her', 'during', 'the', 'original', 'fbi', 'investigation', 'hillary', 'clinton', 'was', 'confident', 'that', 'she', 'could', 'ride', 'it', 'out', 'and', 'she', 'had', 'good', 'reason', 'for', 'believing', 'that', 'but', 'that', 'hillary', 'clinton', 'is', 'gone', 'in', 'her', 'place', 'is', 'a', 'paranoid', 'wreck', 'within', 'a', 'short', 'space', 'of', 'time', 'the', 'positive', 'clinton', 'campaign', 'promising', 'to', 'unite', 'the', 'country', 'has', 'been', 'replaced', 'by', 'a', 'desperate', 'and', 'flailing', 'operation', 'that', 'has', 'focused', 'all', 'its', 'energy', 'on', 'fighting', 'the', 'fbi', 'there', 's', 'only', 'one', 'reason', 'for', 'such', 'bizarre', 'behavior', 'the', 'clinton', 'campaign', 'has', 'decided', 'that', 'an', 'fbi', 'investigation', 'of', 'the', 'latest', 'batch', 'of', 'emails', 'poses', 'a', 'threat', 'to', 'its', 'survival', 'and', 'so', 'it', 's', 'gone', 'all', 'in', 'on', 'fighting', 'the', 'fbi', 'it', 's', 'an', 'unprecedented', 'step', 'born', 'of', 'fear', 'it', 's', 'hard', 'to', 'know', 'whether', 'that', 'fear', 'is', 'justified', 'but', 'the', 'existence', 'of', 'that', 'fear', 'already', 'tells', 'us', 'a', 'whole', 'lot', 'clinton', 'loyalists', 'rigged', 'the', 'old', 'investigation', 'they', 'knew', 'the', 'outcome', 'ahead', 'of', 'time', 'as', 'well', 'as', 'they', 'knew', 'the', 'debate', 'questions', 'now', 'suddenly', 'they', 'are', 'no', 'longer', 'in', 'control', 'and', 'they', 'are', 'afraid', 'you', 'can', 'smell', 'the', 'fear', 'the', 'fbi', 'has', 'wiretaps', 'from', 'the', 'investigation', 'of', 'the', 'clinton', 'foundation', 'it', 's', 'finding', 'new', 'emails', 'all', 'the', 'time', 'and', 'clintonworld', 'panicked', 'the', 'spinmeisters', 'of', 'clintonworld', 'have', 'claimed', 'that', 'the', 'email', 'scandal', 'is', 'just', 'so', 'much', 'smoke', 'without', 'fire', 'all', 'that', 's', 'here', 'is', 'the', 'appearance', 'of', 'impropriety', 'without', 'any', 'of', 'the', 'substance', 'but', 'this', 'isn', 't', 'how', 'you', 'react', 'to', 'smoke', 'it', 's', 'how', 'you', 'respond', 'to', 'a', 'fire', 'the', 'misguided', 'assault', 'on', 'the', 'fbi', 'tells', 'us', 'that', 'hillary', 'clinton', 'and', 'her', 'allies', 'are', 'afraid', 'of', 'a', 'revelation', 'bigger', 'than', 'the', 'fundamental', 'illegality', 'of', 'her', 'email', 'setup', 'the', 'email', 'setup', 'was', 'a', 'preemptive', 'cover', 'up', 'the', 'clinton', 'campaign', 'has', 'panicked', 'badly', 'out', 'of', 'the', 'belief', 'right', 'or', 'wrong', 'that', 'whatever', 'crime', 'the', 'illegal', 'setup', 'was', 'meant', 'to', 'cover', 'up', 'is', 'at', 'risk', 'of', 'being', 'exposed', 'the', 'clintons', 'have', 'weathered', 'countless', 'scandals', 'over', 'the', 'years', 'whatever', 'they', 'are', 'protecting', 'this', 'time', 'around', 'is', 'bigger', 'than', 'the', 'usual', 'corruption', 'bribery', 'sexual', 'assaults', 'and', 'abuses', 'of', 'power', 'that', 'have', 'followed', 'them', 'around', 'throughout', 'the', 'years', 'this', 'is', 'bigger', 'and', 'more', 'damaging', 'than', 'any', 'of', 'the', 'allegations', 'that', 'have', 'already', 'come', 'out', 'and', 'they', 'don', 't', 'want', 'fbi', 'investigators', 'anywhere', 'near', 'it', 'the', 'campaign', 'against', 'comey', 'is', 'pure', 'intimidation', 'it', 's', 'also', 'a', 'warning', 'any', 'senior', 'fbi', 'people', 'who', 'value', 'their', 'careers', 'are', 'being', 'warned', 'to', 'stay', 'away', 'the', 'democrats', 'are', 'closing', 'ranks', 'around', 'their', 'nominee', 'against', 'the', 'fbi', 'it', 's', 'an', 'ugly', 'and', 'unprecedented', 'scene', 'it', 'may', 'also', 'be', 'their', 'last', 'stand', 'hillary', 'clinton', 'has', 'awkwardly', 'wound', 'her', 'way', 'through', 'numerous', 'scandals', 'in', 'just', 'this', 'election', 'cycle', 'but', 'she', 's', 'never', 'shown', 'fear', 'or', 'desperation', 'before', 'now', 'that', 'has', 'changed', 'whatever', 'she', 'is', 'afraid', 'of', 'it', 'lies', 'buried', 'in', 'her', 'emails', 'with', 'huma', 'abedin', 'and', 'it', 'can', 'bring', 'her', 'down', 'like', 'nothing', 'else', 'has', 'google', 'pinterest', 'digg', 'linkedin', 'reddit', 'stumbleupon', 'print', 'delicious', 'pocket', 'tumblr', 'there', 'are', 'two', 'fundamental', 'truths', 'in', 'this', 'world', 'paul', 'ryan', 'desperately', 'wants', 'to', 'be', 'president', 'and', 'paul', 'ryan', 'will', 'never', 'be', 'president', 'today', 'proved', 'it', 'in', 'a', 'particularly', 'staggering', 'example', 'of', 'political', 'cowardice', 'paul', 'ryan', 're', 're', 're', 'reversed', 'course', 'and', 'announced', 'that', 'he', 'was', 'back', 'on', 'the', 'trump', 'train', 'after', 'all', 'this', 'was', 'an', 'aboutface', 'from', 'where', 'he', 'was', 'a', 'few', 'weeks', 'ago', 'he', 'had', 'previously', 'declared', 'he', 'would', 'not', 'be', 'supporting', 'or', 'defending', 'trump', 'after', 'a', 'tape', 'was', 'made', 'public', 'in', 'which', 'trump', 'bragged', 'about', 'assaulting', 'women', 'suddenly', 'ryan', 'was', 'appearing', 'at', 'a', 'pro', 'trump', 'rally', 'and', 'boldly', 'declaring', 'that', 'he', 'already', 'sent', 'in', 'his', 'vote', 'to', 'make', 'him', 'president', 'of', 'the', 'united', 'states', 'it', 'was', 'a', 'surreal', 'moment', 'the', 'figurehead', 'of', 'the', 'republican', 'party', 'dosed', 'himself', 'in', 'gasoline', 'got', 'up', 'on', 'a', 'stage', 'on', 'a', 'chilly', 'afternoon', 'in', 'wisconsin', 'and', 'lit', 'a', 'match', 'speakerryan', 'says', 'he', 'voted', 'for', 'realdonaldtrump', 'republicans', 'it', 'is', 'time', 'to', 'come', 'home', 'https', 't', 'co', 'vytt49yvoe', 'pic', 'twitter', 'com', 'wcvscg4a5i', 'abc', 'news', 'politics', 'abcpolitics', 'november', '5', '2016', 'the', 'democratic', 'party', 'couldn', 't', 'have', 'asked', 'for', 'a', 'better', 'moment', 'of', 'film', 'ryan', 's', 'chances', 'of', 'ever', 'becoming', 'president', 'went', 'down', 'to', 'zero', 'in', 'an', 'instant', 'in', 'the', 'wreckage', 'trump', 'is', 'to', 'leave', 'behind', 'in', 'his', 'wake', 'those', 'who', 'cravenly', 'backed', 'his', 'campaign', 'will', 'not', 'recover', 'if', 'ryan', 's', 'career', 'manages', 'to', 'limp', 'all', 'the', 'way', 'to', '2020', 'then', 'the', 'dnc', 'will', 'have', 'this', 'tape', 'locked', 'and', 'loaded', 'to', 'be', 'used', 'in', 'every', 'ad', 'until', 'election', 'day', 'the', 'ringing', 'endorsement', 'of', 'the', 'man', 'he', 'clearly', 'hates', 'on', 'a', 'personal', 'level', 'speaks', 'volumes', 'about', 'his', 'own', 'spinelessness', 'ryan', 'has', 'postured', 'himself', 'as', 'a', 'principled', 'conservative', 'and', 'one', 'uncomfortable', 'with', 'trump', 's', 'unapologetic', 'bigotry', 'and', 'sexism', 'however', 'when', 'push', 'came', 'to', 'shove', 'paul', 'ryan', 'like', 'many', 'of', 'his', 'colleagues', 'turned', 'into', 'a', 'sniveling', 'appeaser', 'after', 'all', 'his', 'lofty', 'tak', 'about', 'conviction', 'his', 'principles', 'were', 'a', 'house', 'of', 'cards', 'and', 'collapsed', 'with', 'the', 'slightest', 'breeze', 'what', 's', 'especially', 'bizarre', 'is', 'how', 'close', 'ryan', 'came', 'to', 'making', 'it', 'through', 'unscathed', 'for', 'months', 'the', 'speaker', 'of', 'the', 'house', 'refused', 'to', 'comment', 'on', 'trump', 'at', 'all', 'his', 'strategy', 'seemed', 'to', 'be', 'to', 'keep', 'his', 'head', 'down', 'pretend', 'trump', 'didn', 't', 'exist', 'and', 'hope', 'that', 'nobody', 'remembered', 'what', 'happened', 'in', '2016', 'now', 'just', 'days', 'away', 'from', 'the', 'election', 'he', 'screwed', 'it', 'all', 'up', 'if', '2016', 's', 'very', 'ugly', 'election', 'has', 'done', 'any', 'good', 'it', 's', 'by', 'exposing', 'the', 'utter', 'cowardice', 'of', 'the', 'republicans', 'who', 'once', 'feigned', 'moral', 'courage', 'a', 'reality', 'television']\n"
     ]
    }
   ],
   "source": [
    "print(next_words)"
   ]
  },
  {
   "cell_type": "code",
   "execution_count": 16,
   "id": "654112f8-9daf-4652-a935-6be97eeeae53",
   "metadata": {},
   "outputs": [],
   "source": [
    "#pass this to our neural network"
   ]
  },
  {
   "cell_type": "code",
   "execution_count": 17,
   "id": "ec322de8-976c-47b3-951b-c4a775780ec3",
   "metadata": {},
   "outputs": [],
   "source": [
    "x = np.zeros((len(input_words), n_words, len(unique_tokens)), dtype=bool)\n",
    "y = np.zeros((len(input_words), len(unique_tokens)), dtype=bool)"
   ]
  },
  {
   "cell_type": "code",
   "execution_count": 18,
   "id": "bc11f8b6-fa3d-4c35-bad2-7e2eb9b4caf4",
   "metadata": {},
   "outputs": [],
   "source": [
    "for i, words in enumerate(input_words):\n",
    "    for j, word in enumerate(words):\n",
    "        x[i, j, unique_token_index[word]] = 1\n",
    "    y[i, unique_token_index[next_words[i]]] = 1"
   ]
  },
  {
   "cell_type": "code",
   "execution_count": 19,
   "id": "2f8fcc33-312a-4bb5-a54c-fb10f0590006",
   "metadata": {},
   "outputs": [
    {
     "name": "stdout",
     "output_type": "stream",
     "text": [
      "WARNING:tensorflow:From C:\\Users\\FUJITSU\\AppData\\Roaming\\Python\\Python311\\site-packages\\keras\\src\\backend.py:873: The name tf.get_default_graph is deprecated. Please use tf.compat.v1.get_default_graph instead.\n",
      "\n",
      "Epoch 1/10\n",
      "WARNING:tensorflow:From C:\\Users\\FUJITSU\\AppData\\Roaming\\Python\\Python311\\site-packages\\keras\\src\\utils\\tf_utils.py:492: The name tf.ragged.RaggedTensorValue is deprecated. Please use tf.compat.v1.ragged.RaggedTensorValue instead.\n",
      "\n",
      "WARNING:tensorflow:From C:\\Users\\FUJITSU\\AppData\\Roaming\\Python\\Python311\\site-packages\\keras\\src\\engine\\base_layer_utils.py:384: The name tf.executing_eagerly_outside_functions is deprecated. Please use tf.compat.v1.executing_eagerly_outside_functions instead.\n",
      "\n",
      "14/14 [==============================] - 13s 111ms/step - loss: 6.2626 - accuracy: 0.0297\n",
      "Epoch 2/10\n",
      "14/14 [==============================] - 1s 72ms/step - loss: 5.8722 - accuracy: 0.0618\n",
      "Epoch 3/10\n",
      "14/14 [==============================] - 1s 66ms/step - loss: 5.8108 - accuracy: 0.0618\n",
      "Epoch 4/10\n",
      "14/14 [==============================] - 1s 72ms/step - loss: 5.7917 - accuracy: 0.0601\n",
      "Epoch 5/10\n",
      "14/14 [==============================] - 1s 95ms/step - loss: 5.7555 - accuracy: 0.0618\n",
      "Epoch 6/10\n",
      "14/14 [==============================] - 1s 85ms/step - loss: 5.7145 - accuracy: 0.0618\n",
      "Epoch 7/10\n",
      "14/14 [==============================] - 1s 72ms/step - loss: 5.6504 - accuracy: 0.0618\n",
      "Epoch 8/10\n",
      "14/14 [==============================] - 1s 76ms/step - loss: 5.5992 - accuracy: 0.0612\n",
      "Epoch 9/10\n",
      "14/14 [==============================] - 1s 65ms/step - loss: 5.5091 - accuracy: 0.0635\n",
      "Epoch 10/10\n",
      "14/14 [==============================] - 1s 64ms/step - loss: 5.3559 - accuracy: 0.0732\n"
     ]
    },
    {
     "data": {
      "text/plain": [
       "<keras.src.callbacks.History at 0x19abf081a10>"
      ]
     },
     "execution_count": 19,
     "metadata": {},
     "output_type": "execute_result"
    }
   ],
   "source": [
    "model = Sequential()\n",
    "model.add(LSTM(128, input_shape=(n_words, len(unique_tokens)), return_sequences=True))\n",
    "model.add(LSTM(128))\n",
    "model.add(Dense(len(unique_tokens)))\n",
    "model.add(Activation(\"softmax\"))\n",
    "model.compile(loss=\"categorical_crossentropy\", optimizer=RMSprop(learning_rate=0.01), metrics=[\"accuracy\"])\n",
    "model.fit(x, y, batch_size=128, epochs=10, shuffle=True)"
   ]
  },
  {
   "cell_type": "code",
   "execution_count": 20,
   "id": "2e0cb060-8612-4251-a84b-e4a2e8325e58",
   "metadata": {},
   "outputs": [],
   "source": [
    "def predict_next_word(input_text, n_best):\n",
    "    input_text = input_text.lower()\n",
    "    x = np.zeros((1, n_words, len(unique_tokens)))\n",
    "    for i, word in enumerate(input_text.split()):\n",
    "        x[0, i, unique_token_index[word]] = 1\n",
    "    predictions = model.predict(x)[0]\n",
    "    return np.argpartition(predictions, -n_best)[-n_best:]"
   ]
  },
  {
   "cell_type": "code",
   "execution_count": 21,
   "id": "82215d85-842a-4f46-b20f-14f07268ced9",
   "metadata": {},
   "outputs": [
    {
     "name": "stdout",
     "output_type": "stream",
     "text": [
      "1/1 [==============================] - 2s 2s/step\n"
     ]
    },
    {
     "data": {
      "text/plain": [
       "array([  4, 588, 402, 587, 605], dtype=int64)"
      ]
     },
     "execution_count": 21,
     "metadata": {},
     "output_type": "execute_result"
    }
   ],
   "source": [
    "possible = predict_next_word(\"he will have to look into this thing and he\", 5)\n",
    "possible"
   ]
  },
  {
   "cell_type": "code",
   "execution_count": 22,
   "id": "0e6e6573-95cb-4e0f-babd-6cf01e3b4ffc",
   "metadata": {},
   "outputs": [
    {
     "name": "stdout",
     "output_type": "stream",
     "text": [
      "['a', 'the', 'of', 'that', 'to']\n"
     ]
    }
   ],
   "source": [
    "print([unique_tokens[idx] for idx in possible])"
   ]
  },
  {
   "cell_type": "code",
   "execution_count": 23,
   "id": "43341eb1-f820-48ea-b540-57c012c17cab",
   "metadata": {},
   "outputs": [],
   "source": [
    "#how do we take this and generate text"
   ]
  },
  {
   "cell_type": "code",
   "execution_count": 24,
   "id": "701811c5-1dfb-45d5-a7d3-d4d1a694ec1e",
   "metadata": {},
   "outputs": [],
   "source": [
    "def generate_text(input_text, text_length, creativity=3):\n",
    "    word_sequence = input_text.split()\n",
    "    current = 0\n",
    "    for _ in range(text_length):\n",
    "        sub_sequence = \" \".join(tokenizer.tokenize(\" \".join(word_sequence).lower())[current:current+n_words])\n",
    "        try:\n",
    "            choice = unique_tokens[random.choice(predict_next_word(sub_sequence, creativity))]\n",
    "        except:\n",
    "            choice = random.choice(unique_tokens)\n",
    "        word_sequence.append(choice)\n",
    "        current += 1\n",
    "    return \" \".join(word_sequence)"
   ]
  },
  {
   "cell_type": "code",
   "execution_count": 25,
   "id": "7e520dcf-d272-45a0-a5b3-343d416f369f",
   "metadata": {},
   "outputs": [
    {
     "name": "stdout",
     "output_type": "stream",
     "text": [
      "1/1 [==============================] - 0s 34ms/step\n",
      "1/1 [==============================] - 0s 32ms/step\n",
      "1/1 [==============================] - 0s 38ms/step\n",
      "1/1 [==============================] - 0s 62ms/step\n",
      "1/1 [==============================] - 0s 53ms/step\n",
      "1/1 [==============================] - 0s 60ms/step\n",
      "1/1 [==============================] - 0s 56ms/step\n",
      "1/1 [==============================] - 0s 42ms/step\n",
      "1/1 [==============================] - 0s 55ms/step\n",
      "1/1 [==============================] - 0s 52ms/step\n",
      "1/1 [==============================] - 0s 48ms/step\n",
      "1/1 [==============================] - 0s 38ms/step\n",
      "1/1 [==============================] - 0s 32ms/step\n",
      "1/1 [==============================] - 0s 39ms/step\n",
      "1/1 [==============================] - 0s 44ms/step\n",
      "1/1 [==============================] - 0s 35ms/step\n",
      "1/1 [==============================] - 0s 59ms/step\n",
      "1/1 [==============================] - 0s 47ms/step\n",
      "1/1 [==============================] - 0s 46ms/step\n",
      "1/1 [==============================] - 0s 56ms/step\n",
      "1/1 [==============================] - 0s 41ms/step\n",
      "1/1 [==============================] - 0s 45ms/step\n",
      "1/1 [==============================] - 0s 31ms/step\n",
      "1/1 [==============================] - 0s 53ms/step\n",
      "1/1 [==============================] - 0s 48ms/step\n",
      "1/1 [==============================] - 0s 51ms/step\n",
      "1/1 [==============================] - 0s 38ms/step\n",
      "1/1 [==============================] - 0s 34ms/step\n",
      "1/1 [==============================] - 0s 37ms/step\n",
      "1/1 [==============================] - 0s 53ms/step\n",
      "1/1 [==============================] - 0s 31ms/step\n",
      "1/1 [==============================] - 0s 35ms/step\n",
      "1/1 [==============================] - 0s 36ms/step\n",
      "1/1 [==============================] - 0s 44ms/step\n",
      "1/1 [==============================] - 0s 56ms/step\n",
      "1/1 [==============================] - 0s 67ms/step\n",
      "1/1 [==============================] - 0s 67ms/step\n",
      "1/1 [==============================] - 0s 58ms/step\n",
      "1/1 [==============================] - 0s 51ms/step\n",
      "1/1 [==============================] - 0s 65ms/step\n",
      "1/1 [==============================] - 0s 83ms/step\n",
      "1/1 [==============================] - 0s 52ms/step\n",
      "1/1 [==============================] - 0s 59ms/step\n",
      "1/1 [==============================] - 0s 124ms/step\n",
      "1/1 [==============================] - 0s 57ms/step\n",
      "1/1 [==============================] - 0s 73ms/step\n",
      "1/1 [==============================] - 0s 112ms/step\n",
      "1/1 [==============================] - 0s 90ms/step\n",
      "1/1 [==============================] - 0s 54ms/step\n",
      "1/1 [==============================] - 0s 44ms/step\n",
      "1/1 [==============================] - 0s 54ms/step\n",
      "1/1 [==============================] - 0s 73ms/step\n",
      "1/1 [==============================] - 0s 49ms/step\n",
      "1/1 [==============================] - 0s 58ms/step\n",
      "1/1 [==============================] - 0s 74ms/step\n",
      "1/1 [==============================] - 0s 55ms/step\n",
      "1/1 [==============================] - 0s 45ms/step\n",
      "1/1 [==============================] - 0s 48ms/step\n",
      "1/1 [==============================] - 0s 59ms/step\n",
      "1/1 [==============================] - 0s 71ms/step\n",
      "1/1 [==============================] - 0s 74ms/step\n",
      "1/1 [==============================] - 0s 92ms/step\n",
      "1/1 [==============================] - 0s 38ms/step\n",
      "1/1 [==============================] - 0s 67ms/step\n",
      "1/1 [==============================] - 0s 82ms/step\n",
      "1/1 [==============================] - 0s 42ms/step\n",
      "1/1 [==============================] - 0s 75ms/step\n",
      "1/1 [==============================] - 0s 40ms/step\n",
      "1/1 [==============================] - 0s 38ms/step\n",
      "1/1 [==============================] - 0s 37ms/step\n",
      "1/1 [==============================] - 0s 42ms/step\n",
      "1/1 [==============================] - 0s 53ms/step\n",
      "1/1 [==============================] - 0s 67ms/step\n",
      "1/1 [==============================] - 0s 46ms/step\n",
      "1/1 [==============================] - 0s 69ms/step\n",
      "1/1 [==============================] - 0s 37ms/step\n",
      "1/1 [==============================] - 0s 90ms/step\n",
      "1/1 [==============================] - 0s 62ms/step\n",
      "1/1 [==============================] - 0s 83ms/step\n",
      "1/1 [==============================] - 0s 67ms/step\n",
      "1/1 [==============================] - 0s 61ms/step\n",
      "1/1 [==============================] - 0s 65ms/step\n",
      "1/1 [==============================] - 0s 94ms/step\n",
      "1/1 [==============================] - 0s 58ms/step\n",
      "1/1 [==============================] - 0s 84ms/step\n",
      "1/1 [==============================] - 0s 47ms/step\n",
      "1/1 [==============================] - 0s 62ms/step\n",
      "1/1 [==============================] - 0s 62ms/step\n",
      "1/1 [==============================] - 0s 199ms/step\n",
      "1/1 [==============================] - 0s 95ms/step\n",
      "1/1 [==============================] - 0s 113ms/step\n",
      "1/1 [==============================] - 0s 79ms/step\n",
      "1/1 [==============================] - 0s 59ms/step\n",
      "1/1 [==============================] - 0s 61ms/step\n",
      "1/1 [==============================] - 0s 59ms/step\n",
      "1/1 [==============================] - 0s 63ms/step\n",
      "1/1 [==============================] - 0s 70ms/step\n",
      "1/1 [==============================] - 0s 63ms/step\n",
      "1/1 [==============================] - 0s 58ms/step\n",
      "1/1 [==============================] - 0s 47ms/step\n"
     ]
    },
    {
     "data": {
      "text/plain": [
       "'he will have to look into this thing and he the to of a been war the the that to that to has of the fbi has of the that of fbi of the fbi to that that fbi clinton fbi that that the the fbi a of to has of to that of the of the investigation the that the of the the has fbi has fbi that that the of fbi that to fbi that the s fbi that the that the of of of fbi that to investigation the to that that fbi s that of fbi that s is of of fbi s fbi the of'"
      ]
     },
     "execution_count": 25,
     "metadata": {},
     "output_type": "execute_result"
    }
   ],
   "source": [
    "generate_text(\"he will have to look into this thing and he\", 100, 5)"
   ]
  },
  {
   "cell_type": "code",
   "execution_count": null,
   "id": "7259ba3e-6951-414a-bd17-204ff5eb0fad",
   "metadata": {},
   "outputs": [],
   "source": []
  },
  {
   "cell_type": "code",
   "execution_count": null,
   "id": "be2b7015-b101-4562-ac5e-930906b6c0c0",
   "metadata": {},
   "outputs": [],
   "source": []
  },
  {
   "cell_type": "code",
   "execution_count": null,
   "id": "f899d161-33d4-49c2-a058-c451094968bb",
   "metadata": {},
   "outputs": [],
   "source": []
  },
  {
   "cell_type": "code",
   "execution_count": null,
   "id": "b574a79c-2264-4eb6-a4c3-a9fe624739f9",
   "metadata": {},
   "outputs": [],
   "source": []
  },
  {
   "cell_type": "code",
   "execution_count": null,
   "id": "3986820c-710e-4ee0-bf81-7759e4281bee",
   "metadata": {},
   "outputs": [],
   "source": []
  }
 ],
 "metadata": {
  "kernelspec": {
   "display_name": "Python 3 (ipykernel)",
   "language": "python",
   "name": "python3"
  },
  "language_info": {
   "codemirror_mode": {
    "name": "ipython",
    "version": 3
   },
   "file_extension": ".py",
   "mimetype": "text/x-python",
   "name": "python",
   "nbconvert_exporter": "python",
   "pygments_lexer": "ipython3",
   "version": "3.11.3"
  }
 },
 "nbformat": 4,
 "nbformat_minor": 5
}
